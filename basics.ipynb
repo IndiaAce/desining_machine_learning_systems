{
 "cells": [
  {
   "cell_type": "code",
   "execution_count": 1,
   "id": "491617ea-a04b-4b28-b144-4528f7a970b3",
   "metadata": {},
   "outputs": [],
   "source": [
    "import pandas as pd"
   ]
  },
  {
   "cell_type": "code",
   "execution_count": null,
   "id": "638fed33-9690-4611-91e8-946efb8c1611",
   "metadata": {},
   "outputs": [],
   "source": []
  }
 ],
 "metadata": {
  "kernelspec": {
   "display_name": "ML Systems Design",
   "language": "python",
   "name": "ml-systems-design"
  },
  "language_info": {
   "codemirror_mode": {
    "name": "ipython",
    "version": 3
   },
   "file_extension": ".py",
   "mimetype": "text/x-python",
   "name": "python",
   "nbconvert_exporter": "python",
   "pygments_lexer": "ipython3",
   "version": "3.9.6"
  }
 },
 "nbformat": 4,
 "nbformat_minor": 5
}
